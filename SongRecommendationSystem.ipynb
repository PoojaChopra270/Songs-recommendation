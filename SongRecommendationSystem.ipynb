{
 "cells": [
  {
   "cell_type": "markdown",
   "metadata": {},
   "source": [
    "## Loading Data"
   ]
  },
  {
   "cell_type": "code",
   "execution_count": 1,
   "metadata": {},
   "outputs": [],
   "source": [
    "import pandas as pd"
   ]
  },
  {
   "cell_type": "code",
   "execution_count": 2,
   "metadata": {},
   "outputs": [],
   "source": [
    "original_data=pd.read_csv(\"E:/ml project/songs/data.csv\")\n",
    "data_songs=pd.read_csv(\"E:/ml project/songs/data.csv\")\n",
    "data_artists=pd.read_csv(\"E:/ml project/songs/data_by_artist.csv\")\n",
    "data_genre=pd.read_csv(\"E:/ml project/songs/data_by_genres.csv\")\n",
    "data_year=pd.read_csv(\"E:/ml project/songs/data_by_year.csv\")"
   ]
  },
  {
   "cell_type": "markdown",
   "metadata": {},
   "source": [
    "## Exploratory Data Analysis"
   ]
  },
  {
   "cell_type": "code",
   "execution_count": 3,
   "metadata": {},
   "outputs": [
    {
     "data": {
      "text/plain": [
       "(174389, 19)"
      ]
     },
     "execution_count": 3,
     "metadata": {},
     "output_type": "execute_result"
    }
   ],
   "source": [
    "data_songs.shape"
   ]
  },
  {
   "cell_type": "code",
   "execution_count": 4,
   "metadata": {},
   "outputs": [
    {
     "data": {
      "text/html": [
       "<div>\n",
       "<style scoped>\n",
       "    .dataframe tbody tr th:only-of-type {\n",
       "        vertical-align: middle;\n",
       "    }\n",
       "\n",
       "    .dataframe tbody tr th {\n",
       "        vertical-align: top;\n",
       "    }\n",
       "\n",
       "    .dataframe thead th {\n",
       "        text-align: right;\n",
       "    }\n",
       "</style>\n",
       "<table border=\"1\" class=\"dataframe\">\n",
       "  <thead>\n",
       "    <tr style=\"text-align: right;\">\n",
       "      <th></th>\n",
       "      <th>acousticness</th>\n",
       "      <th>artists</th>\n",
       "      <th>danceability</th>\n",
       "      <th>duration_ms</th>\n",
       "      <th>energy</th>\n",
       "      <th>explicit</th>\n",
       "      <th>id</th>\n",
       "      <th>instrumentalness</th>\n",
       "      <th>key</th>\n",
       "      <th>liveness</th>\n",
       "      <th>loudness</th>\n",
       "      <th>mode</th>\n",
       "      <th>name</th>\n",
       "      <th>popularity</th>\n",
       "      <th>release_date</th>\n",
       "      <th>speechiness</th>\n",
       "      <th>tempo</th>\n",
       "      <th>valence</th>\n",
       "      <th>year</th>\n",
       "    </tr>\n",
       "  </thead>\n",
       "  <tbody>\n",
       "    <tr>\n",
       "      <th>0</th>\n",
       "      <td>0.991</td>\n",
       "      <td>['Mamie Smith']</td>\n",
       "      <td>0.598</td>\n",
       "      <td>168333</td>\n",
       "      <td>0.224</td>\n",
       "      <td>0</td>\n",
       "      <td>0cS0A1fUEUd1EW3FcF8AEI</td>\n",
       "      <td>0.000522</td>\n",
       "      <td>5</td>\n",
       "      <td>0.3790</td>\n",
       "      <td>-12.628</td>\n",
       "      <td>0</td>\n",
       "      <td>Keep A Song In Your Soul</td>\n",
       "      <td>12</td>\n",
       "      <td>1920</td>\n",
       "      <td>0.0936</td>\n",
       "      <td>149.976</td>\n",
       "      <td>0.634</td>\n",
       "      <td>1920</td>\n",
       "    </tr>\n",
       "    <tr>\n",
       "      <th>1</th>\n",
       "      <td>0.643</td>\n",
       "      <td>[\"Screamin' Jay Hawkins\"]</td>\n",
       "      <td>0.852</td>\n",
       "      <td>150200</td>\n",
       "      <td>0.517</td>\n",
       "      <td>0</td>\n",
       "      <td>0hbkKFIJm7Z05H8Zl9w30f</td>\n",
       "      <td>0.026400</td>\n",
       "      <td>5</td>\n",
       "      <td>0.0809</td>\n",
       "      <td>-7.261</td>\n",
       "      <td>0</td>\n",
       "      <td>I Put A Spell On You</td>\n",
       "      <td>7</td>\n",
       "      <td>1920-01-05</td>\n",
       "      <td>0.0534</td>\n",
       "      <td>86.889</td>\n",
       "      <td>0.950</td>\n",
       "      <td>1920</td>\n",
       "    </tr>\n",
       "  </tbody>\n",
       "</table>\n",
       "</div>"
      ],
      "text/plain": [
       "   acousticness                    artists  danceability  duration_ms  energy  \\\n",
       "0         0.991            ['Mamie Smith']         0.598       168333   0.224   \n",
       "1         0.643  [\"Screamin' Jay Hawkins\"]         0.852       150200   0.517   \n",
       "\n",
       "   explicit                      id  instrumentalness  key  liveness  \\\n",
       "0         0  0cS0A1fUEUd1EW3FcF8AEI          0.000522    5    0.3790   \n",
       "1         0  0hbkKFIJm7Z05H8Zl9w30f          0.026400    5    0.0809   \n",
       "\n",
       "   loudness  mode                      name  popularity release_date  \\\n",
       "0   -12.628     0  Keep A Song In Your Soul          12         1920   \n",
       "1    -7.261     0      I Put A Spell On You           7   1920-01-05   \n",
       "\n",
       "   speechiness    tempo  valence  year  \n",
       "0       0.0936  149.976    0.634  1920  \n",
       "1       0.0534   86.889    0.950  1920  "
      ]
     },
     "execution_count": 4,
     "metadata": {},
     "output_type": "execute_result"
    }
   ],
   "source": [
    "data_songs.head(2)"
   ]
  },
  {
   "cell_type": "code",
   "execution_count": 5,
   "metadata": {},
   "outputs": [],
   "source": [
    "data=data_songs.drop(['id','name','artists'],axis=1)"
   ]
  },
  {
   "cell_type": "code",
   "execution_count": 6,
   "metadata": {},
   "outputs": [
    {
     "data": {
      "text/plain": [
       "Series([], dtype: float64)"
      ]
     },
     "execution_count": 6,
     "metadata": {},
     "output_type": "execute_result"
    }
   ],
   "source": [
    "null_columns=data.columns[data.isnull().any()]\n",
    "df=data[null_columns].isnull().sum()\n",
    "df"
   ]
  },
  {
   "cell_type": "code",
   "execution_count": 7,
   "metadata": {},
   "outputs": [],
   "source": [
    "data=data.drop([\"release_date\"],axis=1) "
   ]
  },
  {
   "cell_type": "markdown",
   "metadata": {},
   "source": [
    "## Scaling Data"
   ]
  },
  {
   "cell_type": "code",
   "execution_count": 8,
   "metadata": {},
   "outputs": [],
   "source": [
    "from sklearn.preprocessing import MinMaxScaler\n",
    "mm = MinMaxScaler()\n",
    "predictor = mm.fit_transform(data)"
   ]
  },
  {
   "cell_type": "markdown",
   "metadata": {},
   "source": [
    "## Checking suitable number of cluster"
   ]
  },
  {
   "cell_type": "code",
   "execution_count": 9,
   "metadata": {},
   "outputs": [],
   "source": [
    "from sklearn.cluster import KMeans\n",
    "wcss=[]\n",
    "for i in range(1,40):\n",
    "    kmeans=KMeans(n_clusters=i,init='k-means++',max_iter=300,n_init=10,\n",
    "                 random_state=0)\n",
    "    kmeans.fit(predictor)\n",
    "    wcss.append(kmeans.inertia_)"
   ]
  },
  {
   "cell_type": "code",
   "execution_count": 10,
   "metadata": {},
   "outputs": [
    {
     "data": {
      "image/png": "[encoded data removed]",
      "text/plain": [
       "<Figure size 432x288 with 1 Axes>"
      ]
     },
     "metadata": {
      "needs_background": "light"
     },
     "output_type": "display_data"
    }
   ],
   "source": [
    "import matplotlib.pyplot as plt\n",
    "plt.plot(range(1,40),wcss)\n",
    "plt.ylabel(\"wcss\")\n",
    "plt.xlabel(\"Number of clusters\")\n",
    "plt.show()"
   ]
  },
  {
   "cell_type": "code",
   "execution_count": 11,
   "metadata": {},
   "outputs": [
    {
     "name": "stdout",
     "output_type": "stream",
     "text": [
      " \n",
      "davies_bouldin_score for 2 clusters: 1.7389519998419904\n",
      "davies_bouldin_score for 3 clusters: 1.5850430052392699\n",
      "davies_bouldin_score for 4 clusters: 1.6062210480383157\n",
      "davies_bouldin_score for 5 clusters: 1.608741689206441\n",
      "davies_bouldin_score for 6 clusters: 1.5129031777326738\n",
      "davies_bouldin_score for 7 clusters: 1.6425972285811632\n",
      "davies_bouldin_score for 8 clusters: 1.5659889562314544\n",
      "davies_bouldin_score for 9 clusters: 1.6418209292186838\n",
      "davies_bouldin_score for 10 clusters: 1.5721589346894016\n",
      "davies_bouldin_score for 11 clusters: 1.5740943397934475\n",
      "davies_bouldin_score for 12 clusters: 1.5719846135087785\n",
      "davies_bouldin_score for 13 clusters: 1.535907116122945\n",
      "davies_bouldin_score for 14 clusters: 1.527831542781083\n",
      "\n",
      "\n",
      "silhouette_score for 2 clusters: 0.24682785395451257\n",
      "silhouette_score for 3 clusters: 0.2114381646920524\n",
      "silhouette_score for 4 clusters: 0.2277212909512017\n",
      "silhouette_score for 5 clusters: 0.21278317272368166\n",
      "silhouette_score for 6 clusters: 0.22232386446242033\n",
      "silhouette_score for 7 clusters: 0.19335620946529988\n",
      "silhouette_score for 8 clusters: 0.19267171320110524\n",
      "silhouette_score for 9 clusters: 0.18435593576195622\n",
      "silhouette_score for 10 clusters: 0.18753472610338462\n",
      "silhouette_score for 11 clusters: 0.19041000302538275\n",
      "silhouette_score for 12 clusters: 0.19238300689368992\n",
      "silhouette_score for 13 clusters: 0.18916475942580202\n",
      "silhouette_score for 14 clusters: 0.19772778755275092\n"
     ]
    }
   ],
   "source": [
    "from sklearn import metrics\n",
    "from sklearn.metrics import pairwise_distances\n",
    "from sklearn.metrics.cluster import davies_bouldin_score\n",
    "from sklearn.metrics import silhouette_score\n",
    "dbs_1=[]\n",
    "sc_1=[]\n",
    "for k in range(2, 15):\n",
    "    kmeans_model = KMeans(n_clusters=k, init='k-means++', max_iter=300, n_init=10, random_state=0).fit(predictor)\n",
    "    labels = kmeans_model.labels_\n",
    "    dbs_1.append(davies_bouldin_score(predictor, labels))\n",
    "    sc_1.append(silhouette_score(predictor, labels))\n",
    "\n",
    "print(\" \")\n",
    "for i in range(0,len(dbs_1)):\n",
    "    a=i+2\n",
    "    print(\"davies_bouldin_score for \"+str(a)+\" clusters: \"+str(dbs_1[i]))\n",
    "\n",
    "print(\"\\n\")\n",
    "\n",
    "for i in range(0,len(dbs_1)):\n",
    "    a=i+2\n",
    "    print(\"silhouette_score for \"+str(a)+\" clusters: \"+str(sc_1[i]))"
   ]
  },
  {
   "cell_type": "code",
   "execution_count": 12,
   "metadata": {},
   "outputs": [
    {
     "data": {
      "text/html": [
       "<div>\n",
       "<style scoped>\n",
       "    .dataframe tbody tr th:only-of-type {\n",
       "        vertical-align: middle;\n",
       "    }\n",
       "\n",
       "    .dataframe tbody tr th {\n",
       "        vertical-align: top;\n",
       "    }\n",
       "\n",
       "    .dataframe thead th {\n",
       "        text-align: right;\n",
       "    }\n",
       "</style>\n",
       "<table border=\"1\" class=\"dataframe\">\n",
       "  <thead>\n",
       "    <tr style=\"text-align: right;\">\n",
       "      <th></th>\n",
       "      <th>Model</th>\n",
       "      <th>Cluster number</th>\n",
       "      <th>silhouette_score</th>\n",
       "      <th>Davies bouldin score</th>\n",
       "    </tr>\n",
       "  </thead>\n",
       "  <tbody>\n",
       "    <tr>\n",
       "      <th>0</th>\n",
       "      <td>Clustering using kmeans with original data</td>\n",
       "      <td>2</td>\n",
       "      <td>0.246828</td>\n",
       "      <td>1.73895</td>\n",
       "    </tr>\n",
       "  </tbody>\n",
       "</table>\n",
       "</div>"
      ],
      "text/plain": [
       "                                          Model Cluster number  \\\n",
       "0   Clustering using kmeans with original data               2   \n",
       "\n",
       "  silhouette_score Davies bouldin score  \n",
       "0         0.246828              1.73895  "
      ]
     },
     "execution_count": 12,
     "metadata": {},
     "output_type": "execute_result"
    }
   ],
   "source": [
    "pd.options.display.max_colwidth = 100\n",
    "report=[]\n",
    "tmp = pd.Series({'Model': \" Clustering using kmeans with original data \",\\\n",
    "                 'Cluster number': sc_1.index(max(sc_1))+2,\n",
    "                 'silhouette_score': max(sc_1),\n",
    "                 'Davies bouldin score': dbs_1[sc_1.index(max(sc_1))]})\n",
    "tmp_df = pd.DataFrame(tmp)\n",
    "report = tmp_df.T\n",
    "report"
   ]
  },
  {
   "cell_type": "markdown",
   "metadata": {},
   "source": [
    "### checking scores after reducing demensions"
   ]
  },
  {
   "cell_type": "code",
   "execution_count": 13,
   "metadata": {},
   "outputs": [],
   "source": [
    "from sklearn.decomposition import PCA\n",
    "from sklearn.pipeline import Pipeline\n",
    "from sklearn.cluster import KMeans\n",
    "from sklearn.preprocessing import StandardScaler\n",
    "import plotly.express as px \n",
    "pca_pipeline = Pipeline([('scaler', StandardScaler()), ('PCA', PCA(n_components=3))])\n",
    "predictor_3 = pca_pipeline.fit_transform(predictor)"
   ]
  },
  {
   "cell_type": "code",
   "execution_count": 14,
   "metadata": {},
   "outputs": [],
   "source": [
    "from sklearn.cluster import KMeans\n",
    "wcss=[]\n",
    "for i in range(1,40):\n",
    "    kmeans=KMeans(n_clusters=i,init='k-means++',max_iter=300,n_init=10,\n",
    "                 random_state=0)\n",
    "    kmeans.fit(predictor_3)\n",
    "    wcss.append(kmeans.inertia_)"
   ]
  },
  {
   "cell_type": "code",
   "execution_count": 15,
   "metadata": {},
   "outputs": [
    {
     "data": {
      "image/png": "[encoded data removed]",
      "text/plain": [
       "<Figure size 432x288 with 1 Axes>"
      ]
     },
     "metadata": {
      "needs_background": "light"
     },
     "output_type": "display_data"
    }
   ],
   "source": [
    "import matplotlib.pyplot as plt\n",
    "plt.plot(range(1,40),wcss)\n",
    "plt.ylabel(\"wcss\")\n",
    "plt.xlabel(\"Number of clusters\")\n",
    "plt.show()"
   ]
  },
  {
   "cell_type": "code",
   "execution_count": 16,
   "metadata": {},
   "outputs": [
    {
     "name": "stdout",
     "output_type": "stream",
     "text": [
      " \n",
      "davies_bouldin_score for 2 clusters: 1.0695745593797017\n",
      "davies_bouldin_score for 3 clusters: 0.8784616040569316\n",
      "davies_bouldin_score for 4 clusters: 0.9093588808737986\n",
      "davies_bouldin_score for 5 clusters: 0.8627078851095821\n",
      "davies_bouldin_score for 6 clusters: 0.901233400072357\n",
      "davies_bouldin_score for 7 clusters: 0.8964231981476691\n",
      "davies_bouldin_score for 8 clusters: 0.8951372227825404\n",
      "davies_bouldin_score for 9 clusters: 0.930523909216433\n",
      "davies_bouldin_score for 10 clusters: 0.9642392945844305\n",
      "davies_bouldin_score for 11 clusters: 0.949440835558235\n",
      "davies_bouldin_score for 12 clusters: 0.9344656931337173\n",
      "davies_bouldin_score for 13 clusters: 0.9477281917576991\n",
      "davies_bouldin_score for 14 clusters: 0.9585676917681455\n",
      "\n",
      "\n",
      "silhouette_score for 2 clusters: 0.38407384538435196\n",
      "silhouette_score for 3 clusters: 0.4070433291939967\n",
      "silhouette_score for 4 clusters: 0.34013285371096225\n",
      "silhouette_score for 5 clusters: 0.3682723608370844\n",
      "silhouette_score for 6 clusters: 0.34774918789424303\n",
      "silhouette_score for 7 clusters: 0.3329691144525395\n",
      "silhouette_score for 8 clusters: 0.3139406008570536\n",
      "silhouette_score for 9 clusters: 0.30270383893082775\n",
      "silhouette_score for 10 clusters: 0.29508426536283294\n",
      "silhouette_score for 11 clusters: 0.28829411468151306\n",
      "silhouette_score for 12 clusters: 0.28907443072893624\n",
      "silhouette_score for 13 clusters: 0.2879066215383217\n",
      "silhouette_score for 14 clusters: 0.28157810612050255\n",
      "\n",
      "\n"
     ]
    }
   ],
   "source": [
    "from sklearn import metrics\n",
    "from sklearn.metrics import pairwise_distances\n",
    "from sklearn.metrics.cluster import davies_bouldin_score\n",
    "from sklearn.metrics import silhouette_score\n",
    "dbs_2=[]\n",
    "sc_2=[]\n",
    "for k in range(2, 15):\n",
    "    kmeans_model = KMeans(n_clusters=k, init='k-means++', max_iter=300, n_init=10, random_state=0).fit(predictor_3)\n",
    "    labels_3 = kmeans_model.labels_\n",
    "    dbs_2.append(davies_bouldin_score(predictor_3, labels_3))\n",
    "    sc_2.append(silhouette_score(predictor_3, labels_3))\n",
    "\n",
    "print(\" \")\n",
    "for i in range(0,len(dbs_2)):\n",
    "    a=i+2\n",
    "    print(\"davies_bouldin_score for \"+str(a)+\" clusters: \"+str(dbs_2[i]))\n",
    "\n",
    "print(\"\\n\")\n",
    "\n",
    "for i in range(0,len(dbs_2)):\n",
    "    a=i+2\n",
    "    print(\"silhouette_score for \"+str(a)+\" clusters: \"+str(sc_2[i]))\n",
    "    \n",
    "print(\"\\n\")"
   ]
  },
  {
   "cell_type": "code",
   "execution_count": 17,
   "metadata": {},
   "outputs": [
    {
     "data": {
      "text/html": [
       "<div>\n",
       "<style scoped>\n",
       "    .dataframe tbody tr th:only-of-type {\n",
       "        vertical-align: middle;\n",
       "    }\n",
       "\n",
       "    .dataframe tbody tr th {\n",
       "        vertical-align: top;\n",
       "    }\n",
       "\n",
       "    .dataframe thead th {\n",
       "        text-align: right;\n",
       "    }\n",
       "</style>\n",
       "<table border=\"1\" class=\"dataframe\">\n",
       "  <thead>\n",
       "    <tr style=\"text-align: right;\">\n",
       "      <th></th>\n",
       "      <th>Model</th>\n",
       "      <th>Cluster number</th>\n",
       "      <th>silhouette_score</th>\n",
       "      <th>Davies bouldin score</th>\n",
       "    </tr>\n",
       "  </thead>\n",
       "  <tbody>\n",
       "    <tr>\n",
       "      <th>0</th>\n",
       "      <td>Clustering using kmeans with original data</td>\n",
       "      <td>2</td>\n",
       "      <td>0.246828</td>\n",
       "      <td>1.73895</td>\n",
       "    </tr>\n",
       "    <tr>\n",
       "      <th>0</th>\n",
       "      <td>Clustering using kmeans after PCA</td>\n",
       "      <td>3</td>\n",
       "      <td>0.407043</td>\n",
       "      <td>0.878462</td>\n",
       "    </tr>\n",
       "  </tbody>\n",
       "</table>\n",
       "</div>"
      ],
      "text/plain": [
       "                                          Model Cluster number  \\\n",
       "0   Clustering using kmeans with original data               2   \n",
       "0            Clustering using kmeans after PCA               3   \n",
       "\n",
       "  silhouette_score Davies bouldin score  \n",
       "0         0.246828              1.73895  \n",
       "0         0.407043             0.878462  "
      ]
     },
     "execution_count": 17,
     "metadata": {},
     "output_type": "execute_result"
    }
   ],
   "source": [
    "pd.options.display.max_colwidth = 100\n",
    "tmp = pd.Series({'Model': \" Clustering using kmeans after PCA \",\\\n",
    "                 'Cluster number': sc_2.index(max(sc_2))+2,\n",
    "                 'silhouette_score': max(sc_2),\n",
    "                'Davies bouldin score': dbs_2[sc_2.index(max(sc_2))]})\n",
    "tmp_df = pd.DataFrame(tmp)\n",
    "report = report.append(tmp_df.T)\n",
    "report"
   ]
  },
  {
   "cell_type": "markdown",
   "metadata": {},
   "source": [
    "### Clustering data using DBSCAN"
   ]
  },
  {
   "cell_type": "code",
   "execution_count": 18,
   "metadata": {},
   "outputs": [],
   "source": [
    "from sklearn.cluster import DBSCAN\n",
    "import numpy as np"
   ]
  },
  {
   "cell_type": "code",
   "execution_count": 19,
   "metadata": {},
   "outputs": [],
   "source": [
    "db = DBSCAN(eps=0.3, min_samples=10).fit(predictor)\n",
    "core_samples_mask = np.zeros_like(db.labels_, dtype=bool)\n",
    "core_samples_mask[db.core_sample_indices_] = True\n",
    "labels = db.labels_\n",
    "\n",
    "# Number of clusters in labels, ignoring noise if present.\n",
    "n_clusters_ = len(set(labels)) - (1 if -1 in labels else 0)\n",
    "n_noise_ = list(labels).count(-1)"
   ]
  },
  {
   "cell_type": "code",
   "execution_count": 20,
   "metadata": {},
   "outputs": [
    {
     "data": {
      "text/html": [
       "<div>\n",
       "<style scoped>\n",
       "    .dataframe tbody tr th:only-of-type {\n",
       "        vertical-align: middle;\n",
       "    }\n",
       "\n",
       "    .dataframe tbody tr th {\n",
       "        vertical-align: top;\n",
       "    }\n",
       "\n",
       "    .dataframe thead th {\n",
       "        text-align: right;\n",
       "    }\n",
       "</style>\n",
       "<table border=\"1\" class=\"dataframe\">\n",
       "  <thead>\n",
       "    <tr style=\"text-align: right;\">\n",
       "      <th></th>\n",
       "      <th>Model</th>\n",
       "      <th>Cluster number</th>\n",
       "      <th>silhouette_score</th>\n",
       "      <th>Davies bouldin score</th>\n",
       "    </tr>\n",
       "  </thead>\n",
       "  <tbody>\n",
       "    <tr>\n",
       "      <th>0</th>\n",
       "      <td>Clustering using kmeans with original data</td>\n",
       "      <td>2</td>\n",
       "      <td>0.246828</td>\n",
       "      <td>1.73895</td>\n",
       "    </tr>\n",
       "    <tr>\n",
       "      <th>0</th>\n",
       "      <td>Clustering using kmeans after PCA</td>\n",
       "      <td>3</td>\n",
       "      <td>0.407043</td>\n",
       "      <td>0.878462</td>\n",
       "    </tr>\n",
       "    <tr>\n",
       "      <th>0</th>\n",
       "      <td>Clustering using  DBSCAN</td>\n",
       "      <td>35</td>\n",
       "      <td>-0.501129</td>\n",
       "      <td>2.88744</td>\n",
       "    </tr>\n",
       "  </tbody>\n",
       "</table>\n",
       "</div>"
      ],
      "text/plain": [
       "                                          Model Cluster number  \\\n",
       "0   Clustering using kmeans with original data               2   \n",
       "0            Clustering using kmeans after PCA               3   \n",
       "0                      Clustering using  DBSCAN             35   \n",
       "\n",
       "  silhouette_score Davies bouldin score  \n",
       "0         0.246828              1.73895  \n",
       "0         0.407043             0.878462  \n",
       "0        -0.501129              2.88744  "
      ]
     },
     "execution_count": 20,
     "metadata": {},
     "output_type": "execute_result"
    }
   ],
   "source": [
    "pd.options.display.max_colwidth = 100\n",
    "tmp = pd.Series({'Model': \" Clustering using  DBSCAN\",\n",
    "                 'Cluster number':  n_clusters_,\n",
    "                 'silhouette_score': metrics.silhouette_score(predictor_3, labels),\n",
    "                'Davies bouldin score': davies_bouldin_score(predictor_3, labels)})\n",
    "tmp_df = pd.DataFrame(tmp)\n",
    "report = report.append(tmp_df.T)\n",
    "report "
   ]
  },
  {
   "cell_type": "code",
   "execution_count": 21,
   "metadata": {},
   "outputs": [],
   "source": [
    "db = DBSCAN(eps=0.3, min_samples=10).fit(predictor_3)\n",
    "core_samples_mask = np.zeros_like(db.labels_, dtype=bool)\n",
    "core_samples_mask[db.core_sample_indices_] = True\n",
    "labels = db.labels_\n",
    "\n",
    "# Number of clusters in labels, ignoring noise if present.\n",
    "n_clusters_ = len(set(labels)) - (1 if -1 in labels else 0)\n",
    "n_noise_ = list(labels).count(-1)"
   ]
  },
  {
   "cell_type": "code",
   "execution_count": 22,
   "metadata": {},
   "outputs": [
    {
     "data": {
      "text/html": [
       "<div>\n",
       "<style scoped>\n",
       "    .dataframe tbody tr th:only-of-type {\n",
       "        vertical-align: middle;\n",
       "    }\n",
       "\n",
       "    .dataframe tbody tr th {\n",
       "        vertical-align: top;\n",
       "    }\n",
       "\n",
       "    .dataframe thead th {\n",
       "        text-align: right;\n",
       "    }\n",
       "</style>\n",
       "<table border=\"1\" class=\"dataframe\">\n",
       "  <thead>\n",
       "    <tr style=\"text-align: right;\">\n",
       "      <th></th>\n",
       "      <th>Model</th>\n",
       "      <th>Cluster number</th>\n",
       "      <th>silhouette_score</th>\n",
       "      <th>Davies bouldin score</th>\n",
       "    </tr>\n",
       "  </thead>\n",
       "  <tbody>\n",
       "    <tr>\n",
       "      <th>0</th>\n",
       "      <td>Clustering using kmeans with original data</td>\n",
       "      <td>2</td>\n",
       "      <td>0.246828</td>\n",
       "      <td>1.73895</td>\n",
       "    </tr>\n",
       "    <tr>\n",
       "      <th>0</th>\n",
       "      <td>Clustering using kmeans after PCA</td>\n",
       "      <td>3</td>\n",
       "      <td>0.407043</td>\n",
       "      <td>0.878462</td>\n",
       "    </tr>\n",
       "    <tr>\n",
       "      <th>0</th>\n",
       "      <td>Clustering using  DBSCAN</td>\n",
       "      <td>35</td>\n",
       "      <td>-0.501129</td>\n",
       "      <td>2.88744</td>\n",
       "    </tr>\n",
       "    <tr>\n",
       "      <th>0</th>\n",
       "      <td>Clustering using DBSCAN after PCA</td>\n",
       "      <td>14</td>\n",
       "      <td>-0.102797</td>\n",
       "      <td>1.59157</td>\n",
       "    </tr>\n",
       "  </tbody>\n",
       "</table>\n",
       "</div>"
      ],
      "text/plain": [
       "                                          Model Cluster number  \\\n",
       "0   Clustering using kmeans with original data               2   \n",
       "0            Clustering using kmeans after PCA               3   \n",
       "0                      Clustering using  DBSCAN             35   \n",
       "0            Clustering using DBSCAN after PCA              14   \n",
       "\n",
       "  silhouette_score Davies bouldin score  \n",
       "0         0.246828              1.73895  \n",
       "0         0.407043             0.878462  \n",
       "0        -0.501129              2.88744  \n",
       "0        -0.102797              1.59157  "
      ]
     },
     "execution_count": 22,
     "metadata": {},
     "output_type": "execute_result"
    }
   ],
   "source": [
    "pd.options.display.max_colwidth = 100\n",
    "tmp = pd.Series({'Model': \" Clustering using DBSCAN after PCA \",\n",
    "                 'Cluster number':  n_clusters_,\n",
    "                 'silhouette_score': metrics.silhouette_score(predictor_3, labels),\n",
    "                'Davies bouldin score': davies_bouldin_score(predictor_3, labels)})\n",
    "tmp_df = pd.DataFrame(tmp)\n",
    "report = report.append(tmp_df.T)\n",
    "report "
   ]
  },
  {
   "cell_type": "markdown",
   "metadata": {},
   "source": [
    "### silhouette_score is high for 3 clusters. So, taking 3 for further analysis"
   ]
  },
  {
   "cell_type": "code",
   "execution_count": 23,
   "metadata": {},
   "outputs": [],
   "source": [
    "from sklearn.preprocessing import MinMaxScaler\n",
    "mm = MinMaxScaler()\n",
    "predictor = mm.fit_transform(data)"
   ]
  },
  {
   "cell_type": "code",
   "execution_count": 24,
   "metadata": {},
   "outputs": [],
   "source": [
    "from sklearn.decomposition import PCA\n",
    "from sklearn.pipeline import Pipeline\n",
    "from sklearn.cluster import KMeans\n",
    "from sklearn.preprocessing import StandardScaler\n",
    "pca_pipeline = Pipeline([('scaler', StandardScaler()), ('PCA', PCA(n_components=3))])\n",
    "predictor_3 = pca_pipeline.fit_transform(predictor)\n",
    "kmeans_model = KMeans(n_clusters=3, init='k-means++', max_iter=300, n_init=10, random_state=0).fit(predictor_3)\n",
    "labels = kmeans_model.labels_\n",
    "DF = pd.DataFrame(columns=['x', 'y','z'], data=predictor_3)\n",
    "DF['cluster'] = labels"
   ]
  },
  {
   "cell_type": "code",
   "execution_count": 25,
   "metadata": {},
   "outputs": [],
   "source": [
    "from sklearn.preprocessing import MinMaxScaler\n",
    "mm = MinMaxScaler()\n",
    "DF_scaled = mm.fit_transform(DF)"
   ]
  },
  {
   "cell_type": "code",
   "execution_count": 26,
   "metadata": {},
   "outputs": [],
   "source": [
    "data_scaled=pd.DataFrame(DF_scaled)"
   ]
  },
  {
   "cell_type": "markdown",
   "metadata": {},
   "source": [
    "## Recommendation System"
   ]
  },
  {
   "cell_type": "code",
   "execution_count": 27,
   "metadata": {},
   "outputs": [],
   "source": [
    "### Adding name of song, artist and year in the dataframe for recommendation system"
   ]
  },
  {
   "cell_type": "code",
   "execution_count": 28,
   "metadata": {},
   "outputs": [
    {
     "name": "stderr",
     "output_type": "stream",
     "text": [
      "<ipython-input-28-7438847baa3f>:3: SettingWithCopyWarning: \n",
      "A value is trying to be set on a copy of a slice from a DataFrame.\n",
      "Try using .loc[row_indexer,col_indexer] = value instead\n",
      "\n",
      "See the caveats in the documentation: https://pandas.pydata.org/pandas-docs/stable/user_guide/indexing.html#returning-a-view-versus-a-copy\n",
      "  song_singer[\"artist\"] = 1 ### adding 1 for checking whether artist is same or not\n"
     ]
    }
   ],
   "source": [
    "col=['name','artists','year']\n",
    "song_singer=data_songs[col]\n",
    "song_singer[\"artist\"] = 1 ### adding 1 for checking whether artist is same or not"
   ]
  },
  {
   "cell_type": "code",
   "execution_count": 29,
   "metadata": {},
   "outputs": [],
   "source": [
    "data_recommmend=pd.concat([data_scaled, song_singer], axis=1)"
   ]
  },
  {
   "cell_type": "code",
   "execution_count": 30,
   "metadata": {},
   "outputs": [
    {
     "data": {
      "text/plain": [
       "(174389, 8)"
      ]
     },
     "execution_count": 30,
     "metadata": {},
     "output_type": "execute_result"
    }
   ],
   "source": [
    "data_recommmend.shape"
   ]
  },
  {
   "cell_type": "code",
   "execution_count": 31,
   "metadata": {},
   "outputs": [],
   "source": [
    "#### Recommendation system without considering artist name"
   ]
  },
  {
   "cell_type": "code",
   "execution_count": 32,
   "metadata": {},
   "outputs": [],
   "source": [
    "from tqdm import tqdm\n",
    "class Recommender_system():\n",
    "    \"\"\"\n",
    "    Neighbourhood Based Collborative Filterng REcoomendation System using similarity Metrics\n",
    "    Manhattan Distance is calculated for all songs and Recommend Songs that are similar to it based on any given song\n",
    "    \"\"\"\n",
    "    def __init__(self, data):\n",
    "        self.data_ = data_recommmend\n",
    "    \n",
    "    #function which returns recommendations, we can also choose the amount of songs to be recommended\n",
    "    def recommendations(self, song_name, song_artist, n_top):\n",
    "        distances = []\n",
    "        #choosing the given song_name and dropping it from the data\n",
    "        song = self.data_[(self.data_.name.str.lower() == song_name.lower())].head(1).values[0]\n",
    "        rem_data = self.data_[self.data_.name.str.lower() != song_name.lower()]\n",
    "        song_return=same_artist_recommendations(self, song_name, song_artist, n_top)\n",
    "        for r_song in tqdm(rem_data.values):\n",
    "            dist = 0\n",
    "            for col in np.arange(len(rem_data.columns)):\n",
    "                #indeces of non-numerical columns(id,Release date,name,artists)\n",
    "                if col in [0,3]:\n",
    "                #calculating the manhettan distances for each numerical feature\n",
    "                    dist = dist + np.absolute(float(song[col]) - float(r_song[col]))\n",
    "            distances.append(dist)\n",
    "        rem_data['distance'] = distances\n",
    "        #sorting our data to be ascending by 'distance' feature\n",
    "        rem_data = rem_data.sort_values('distance')\n",
    "        columns = ['artists', 'name','year']\n",
    "        return rem_data[columns][:n_top]"
   ]
  },
  {
   "cell_type": "markdown",
   "metadata": {},
   "source": [
    "#### Recommendation system considering artist name. If artist name is same then 1 is added in the data else 0 to input data and then distance is checked with int 1"
   ]
  },
  {
   "cell_type": "code",
   "execution_count": 33,
   "metadata": {},
   "outputs": [],
   "source": [
    "def same_artist_recommendations(self, song_name, song_artist, n_top):\n",
    "        distances = []\n",
    "        #choosing the given song_name and dropping it from the data\n",
    "        song = self.data_[(self.data_.name.str.lower() == song_name.lower())].head(1).values[0]\n",
    "        rem_data = self.data_[self.data_.name.str.lower() != song_name.lower()]\n",
    "        ### checking artist\n",
    "        rem_data.loc[(self.data_.artists.str.lower() == song_artist.lower()),\"artist\"] =1 \n",
    "        rem_data.loc[(self.data_.artists.str.lower() != song_artist.lower()),\"artist\"] =0\n",
    "        for r_song in tqdm(rem_data.values):\n",
    "            dist = 0\n",
    "            for col in np.arange(len(rem_data.columns)):\n",
    "                #indeces of non-numerical columns(id,Release date,name,artists)\n",
    "                if col not in [4,5,6]:\n",
    "                #calculating the manhettan distances for each numerical feature\n",
    "                    dist = dist + np.absolute(float(song[col]) - float(r_song[col]))\n",
    "            distances.append(dist)\n",
    "        rem_data['distance'] = distances\n",
    "        #sorting our data to be ascending by 'distance' feature\n",
    "        rem_data = rem_data.sort_values('distance')\n",
    "        columns = ['artists', 'name','year']\n",
    "        print(\"Considering artist\")\n",
    "        print(rem_data[columns][:n_top])"
   ]
  },
  {
   "cell_type": "code",
   "execution_count": 34,
   "metadata": {},
   "outputs": [
    {
     "name": "stderr",
     "output_type": "stream",
     "text": [
      "C:\\ProgramData\\Anaconda3\\lib\\site-packages\\pandas\\core\\indexing.py:1765: SettingWithCopyWarning: \n",
      "A value is trying to be set on a copy of a slice from a DataFrame.\n",
      "Try using .loc[row_indexer,col_indexer] = value instead\n",
      "\n",
      "See the caveats in the documentation: https://pandas.pydata.org/pandas-docs/stable/user_guide/indexing.html#returning-a-view-versus-a-copy\n",
      "  isetter(loc, value)\n",
      "100%|██████████| 174380/174380 [00:02<00:00, 81001.62it/s]\n",
      "<ipython-input-33-34c41e26cef5>:17: SettingWithCopyWarning: \n",
      "A value is trying to be set on a copy of a slice from a DataFrame.\n",
      "Try using .loc[row_indexer,col_indexer] = value instead\n",
      "\n",
      "See the caveats in the documentation: https://pandas.pydata.org/pandas-docs/stable/user_guide/indexing.html#returning-a-view-versus-a-copy\n",
      "  rem_data['distance'] = distances\n",
      "  7%|▋         | 11882/174380 [00:00<00:01, 118043.63it/s]"
     ]
    },
    {
     "name": "stdout",
     "output_type": "stream",
     "text": [
      "Considering artist\n",
      "                     artists               name  year\n",
      "35078   ['Enrique Iglesias']  Nunca Te Olvidaré  1998\n",
      "153829  ['Enrique Iglesias']   Falta Tanto Amor  1995\n",
      "169091  ['Enrique Iglesias']       Inalcanzable  1995\n"
     ]
    },
    {
     "name": "stderr",
     "output_type": "stream",
     "text": [
      "100%|██████████| 174380/174380 [00:01<00:00, 128060.87it/s]\n",
      "<ipython-input-32-06cde462b998>:25: SettingWithCopyWarning: \n",
      "A value is trying to be set on a copy of a slice from a DataFrame.\n",
      "Try using .loc[row_indexer,col_indexer] = value instead\n",
      "\n",
      "See the caveats in the documentation: https://pandas.pydata.org/pandas-docs/stable/user_guide/indexing.html#returning-a-view-versus-a-copy\n",
      "  rem_data['distance'] = distances\n"
     ]
    },
    {
     "data": {
      "text/html": [
       "<div>\n",
       "<style scoped>\n",
       "    .dataframe tbody tr th:only-of-type {\n",
       "        vertical-align: middle;\n",
       "    }\n",
       "\n",
       "    .dataframe tbody tr th {\n",
       "        vertical-align: top;\n",
       "    }\n",
       "\n",
       "    .dataframe thead th {\n",
       "        text-align: right;\n",
       "    }\n",
       "</style>\n",
       "<table border=\"1\" class=\"dataframe\">\n",
       "  <thead>\n",
       "    <tr style=\"text-align: right;\">\n",
       "      <th></th>\n",
       "      <th>artists</th>\n",
       "      <th>name</th>\n",
       "      <th>year</th>\n",
       "    </tr>\n",
       "  </thead>\n",
       "  <tbody>\n",
       "    <tr>\n",
       "      <th>73742</th>\n",
       "      <td>['Sarah Brightman', 'Andrea Bocelli']</td>\n",
       "      <td>Time To Say Goodbye</td>\n",
       "      <td>2006</td>\n",
       "    </tr>\n",
       "    <tr>\n",
       "      <th>52535</th>\n",
       "      <td>['Bobby Caldwell']</td>\n",
       "      <td>Carry On</td>\n",
       "      <td>1991</td>\n",
       "    </tr>\n",
       "    <tr>\n",
       "      <th>6001</th>\n",
       "      <td>['La Sonora Santanera']</td>\n",
       "      <td>Por un Puñado de Oro</td>\n",
       "      <td>1950</td>\n",
       "    </tr>\n",
       "  </tbody>\n",
       "</table>\n",
       "</div>"
      ],
      "text/plain": [
       "                                     artists                  name  year\n",
       "73742  ['Sarah Brightman', 'Andrea Bocelli']   Time To Say Goodbye  2006\n",
       "52535                     ['Bobby Caldwell']              Carry On  1991\n",
       "6001                 ['La Sonora Santanera']  Por un Puñado de Oro  1950"
      ]
     },
     "execution_count": 34,
     "metadata": {},
     "output_type": "execute_result"
    }
   ],
   "source": [
    "import numpy as np\n",
    "recommender = Recommender_system(data_recommmend)\n",
    "recommender.recommendations('Hero','[\\'Enrique Iglesias\\']', 3)"
   ]
  },
  {
   "cell_type": "code",
   "execution_count": 35,
   "metadata": {},
   "outputs": [],
   "source": [
    "feature_number= ['acousticness', 'danceability', 'duration_ms', 'energy',\n",
    "       'explicit', 'id', 'instrumentalness', 'key', 'liveness', 'loudness',\n",
    "       'mode', 'popularity', 'release_date', 'speechiness', 'tempo',\n",
    "       'valence', 'year']\n",
    "feature_name =pd.DataFrame(feature_number)"
   ]
  },
  {
   "cell_type": "markdown",
   "metadata": {},
   "source": [
    "### Checking recommendation system considering artist"
   ]
  },
  {
   "cell_type": "code",
   "execution_count": 36,
   "metadata": {},
   "outputs": [
    {
     "name": "stdout",
     "output_type": "stream",
     "text": [
      "\u001b[1mCorrelation Matrix of top 2 recommened songs considering artist name\u001b[0m\n",
      "[[1.         0.79846759]\n",
      " [0.79846759 1.        ]]\n",
      "[[1.         0.89223881]\n",
      " [0.89223881 1.        ]]\n"
     ]
    },
    {
     "data": {
      "image/png": "[encoded data removed]",
      "text/plain": [
       "<Figure size 720x360 with 1 Axes>"
      ]
     },
     "metadata": {
      "needs_background": "light"
     },
     "output_type": "display_data"
    }
   ],
   "source": [
    "from sklearn.preprocessing import MinMaxScaler\n",
    "import matplotlib.pyplot as plt\n",
    "mm = MinMaxScaler()\n",
    "data_scaled = mm.fit_transform(data)\n",
    "data_scaled_df =pd.DataFrame(data_scaled)\n",
    "\n",
    "x=data_scaled_df.loc[(data_songs['name'] == 'Hero') & (data_songs['artists'] == '[\\'Enrique Iglesias\\']')]\n",
    "y=data_scaled_df.loc[(data_songs['name'] == 'Nunca Te Olvidaré') & (data_songs['artists'] == '[\\'Enrique Iglesias\\']')]\n",
    "z=data_scaled_df.loc[(data_songs['name'] == 'Falta Tanto Amor') & (data_songs['artists'] == '[\\'Enrique Iglesias\\']')]\n",
    "comparison=pd.concat([feature_name,x.transpose(),y.transpose(),z.transpose()],axis=1)\n",
    "comparison.columns = ['feature','song','song1','song2']\n",
    "print('\\033[1m' +\"Correlation Matrix of top 2 recommened songs considering artist name\"  + '\\033[0m')\n",
    "print(np.corrcoef(x, y))\n",
    "print(np.corrcoef(x, z))\n",
    "comparison.plot(x=\"feature\", y=[\"song\", \"song1\", \"song2\"], figsize=(10, 5))\n",
    "plt.title(\"Considering artist in recommendation system\")\n",
    "plt.show()"
   ]
  },
  {
   "cell_type": "code",
   "execution_count": 38,
   "metadata": {},
   "outputs": [
    {
     "name": "stdout",
     "output_type": "stream",
     "text": [
      "\u001b[1mCorrelation Matrix of top 2 recommened songs not considering artist name\u001b[0m\n",
      "[[1.         0.76195103]\n",
      " [0.76195103 1.        ]]\n",
      "[[1.         0.69097605]\n",
      " [0.69097605 1.        ]]\n"
     ]
    },
    {
     "data": {
      "image/png": "[encoded data removed]",
      "text/plain": [
       "<Figure size 720x360 with 1 Axes>"
      ]
     },
     "metadata": {
      "needs_background": "light"
     },
     "output_type": "display_data"
    }
   ],
   "source": [
    "x=data_scaled_df.loc[(data_songs['name'] == 'Hero') & (data_songs['artists'] == '[\\'Enrique Iglesias\\']')]\n",
    "y=data_scaled_df.loc[(data_songs['name'] == 'Time To Say Goodbye') & (data_songs['year']==2006) & (data_songs['artists'] == '[\\'Sarah Brightman\\', \\'Andrea Bocelli\\']')]\n",
    "z=data_scaled_df.loc[(data_songs['name'] == 'Carry On') &  (data_songs['year']==1991) & (data_songs['artists'] == '[\\'Bobby Caldwell\\']')]\n",
    "comparison=pd.concat([feature_name,x.transpose(),y.transpose(),z.transpose()],axis=1)\n",
    "comparison.columns = ['feature','song','song1','song2']\n",
    "print('\\033[1m' +\"Correlation Matrix of top 2 recommened songs not considering artist name\"  + '\\033[0m')\n",
    "print(np.corrcoef(x, y))\n",
    "print(np.corrcoef(x, z))\n",
    "\n",
    "comparison.plot(x=\"feature\", y=[\"song\", \"song1\", \"song2\"], figsize=(10, 5))\n",
    "plt.title(\"Not considering artist in recommendation system\")\n",
    "plt.show()"
   ]
  },
  {
   "cell_type": "code",
   "execution_count": null,
   "metadata": {},
   "outputs": [],
   "source": []
  }
 ],
 "metadata": {
  "kernelspec": {
   "display_name": "Python 3",
   "language": "python",
   "name": "python3"
  },
  "language_info": {
   "codemirror_mode": {
    "name": "ipython",
    "version": 3
   },
   "file_extension": ".py",
   "mimetype": "text/x-python",
   "name": "python",
   "nbconvert_exporter": "python",
   "pygments_lexer": "ipython3",
   "version": "3.8.5"
  }
 },
 "nbformat": 4,
 "nbformat_minor": 4
}
